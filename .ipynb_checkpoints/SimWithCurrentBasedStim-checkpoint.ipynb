{
 "cells": [
  {
   "cell_type": "code",
   "execution_count": 1,
   "id": "d843eea1-cb82-4b07-a12b-e7b8d71a450c",
   "metadata": {},
   "outputs": [
    {
     "name": "stdout",
     "output_type": "stream",
     "text": [
      "Intel MKL WARNING: Support of Intel(R) Streaming SIMD Extensions 4.2 (Intel(R) SSE4.2) enabled only processors has been deprecated. Intel oneAPI Math Kernel Library 2025.0 will require Intel(R) Advanced Vector Extensions (Intel(R) AVX) instructions.\n",
      "Intel MKL WARNING: Support of Intel(R) Streaming SIMD Extensions 4.2 (Intel(R) SSE4.2) enabled only processors has been deprecated. Intel oneAPI Math Kernel Library 2025.0 will require Intel(R) Advanced Vector Extensions (Intel(R) AVX) instructions.\n",
      "rBal =  [ 5.82352941 15.88235294] Hz\n"
     ]
    },
    {
     "name": "stderr",
     "output_type": "stream",
     "text": [
      "/Users/rrosenb1/PycharmProjects/MicronsBalancedModel/SpikingNetworkModels.py:53: RuntimeWarning: overflow encountered in exp\n",
      "  Ve=Ve+(dt/Cm)*(Iee+Iei+Iex+gL*(EL-Ve)+DeltaT*np.exp((Ve-VT)/DeltaT))\n",
      "/Users/rrosenb1/PycharmProjects/MicronsBalancedModel/SpikingNetworkModels.py:53: RuntimeWarning: invalid value encountered in add\n",
      "  Ve=Ve+(dt/Cm)*(Iee+Iei+Iex+gL*(EL-Ve)+DeltaT*np.exp((Ve-VT)/DeltaT))\n",
      "/Users/rrosenb1/PycharmProjects/MicronsBalancedModel/SpikingNetworkModels.py:54: RuntimeWarning: overflow encountered in exp\n",
      "  Vi=Vi+(dt/Cm)*(Iie+Iii+Iix+gL*(EL-Vi)+DeltaT*np.exp((Vi-VT)/DeltaT))\n",
      "/Users/rrosenb1/PycharmProjects/MicronsBalancedModel/SpikingNetworkModels.py:54: RuntimeWarning: invalid value encountered in add\n",
      "  Vi=Vi+(dt/Cm)*(Iie+Iii+Iix+gL*(EL-Vi)+DeltaT*np.exp((Vi-VT)/DeltaT))\n"
     ]
    },
    {
     "name": "stdout",
     "output_type": "stream",
     "text": [
      "Time for sim: 4.977851152420044 s\n",
      "rSim = 6.729888888888889 17.50177777777778 Hz\n"
     ]
    }
   ],
   "source": [
    "import numpy as np\n",
    "import matplotlib.pyplot as plt\n",
    "from time import time as tm\n",
    "import seaborn as sns\n",
    "\n",
    "# Import local functions and params\n",
    "from utils import *\n",
    "from SpikingNetworkModels import EIFNetworkSim\n",
    "from DefaultParams import *\n",
    "\n",
    "# Get connectivity matrices\n",
    "J=GetBlockErdosRenyi(Ns,Jm,P,Ns)\n",
    "\n",
    "# External input on top of baseline\n",
    "X=np.zeros((StimDim,Nt))\n",
    "for j in range(StimDim):\n",
    "  X[j,:]=MakeSmoothGaussianProcess(taustim,Nt,dt)\n",
    "Jx=sigmastim*np.random.randn(N,StimDim)\n",
    "\n",
    "maxns=int(.05*Ne*Nt)+1\n",
    "Ierecord=[0,1,2]\n",
    "t0=tm()\n",
    "se,si,VeRec = EIFNetworkSim(J,Jx,X,X0,Ne,NeuronParams,tau,Nt,dt,maxns,Ierecord)\n",
    "tSim=tm()-t0\n",
    "print('Time for sim:',tSim,'s')\n",
    "se=se[:,se[0,:]>=0]\n",
    "si=si[:,si[0,:]>=0]\n",
    "\n",
    "\n",
    "# Store rates for this trial\n",
    "AllERates=np.histogram(se[1,se[0,:]>=Tburn],bins = range(Ne+1))[0]/(T-Tburn)\n",
    "AllIRates=np.histogram(si[1,si[0,:]>=Tburn],bins = range(Ni+1))[0]/(T-Tburn)\n",
    "\n",
    "MeanERates=AllERates.mean()\n",
    "MeanIRates=AllIRates.mean()\n",
    "\n",
    "print('rSim =',1000*MeanERates,1000*MeanIRates,'Hz')\n"
   ]
  }
 ],
 "metadata": {
  "kernelspec": {
   "display_name": "Python 3 (ipykernel)",
   "language": "python",
   "name": "python3"
  },
  "language_info": {
   "codemirror_mode": {
    "name": "ipython",
    "version": 3
   },
   "file_extension": ".py",
   "mimetype": "text/x-python",
   "name": "python",
   "nbconvert_exporter": "python",
   "pygments_lexer": "ipython3",
   "version": "3.10.9"
  }
 },
 "nbformat": 4,
 "nbformat_minor": 5
}

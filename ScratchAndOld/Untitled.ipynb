{
 "cells": [
  {
   "cell_type": "code",
   "execution_count": 1,
   "id": "22b52058-a646-41fc-aba8-69daa49e6570",
   "metadata": {},
   "outputs": [
    {
     "name": "stdout",
     "output_type": "stream",
     "text": [
      "Intel MKL WARNING: Support of Intel(R) Streaming SIMD Extensions 4.2 (Intel(R) SSE4.2) enabled only processors has been deprecated. Intel oneAPI Math Kernel Library 2025.0 will require Intel(R) Advanced Vector Extensions (Intel(R) AVX) instructions.\n",
      "Intel MKL WARNING: Support of Intel(R) Streaming SIMD Extensions 4.2 (Intel(R) SSE4.2) enabled only processors has been deprecated. Intel oneAPI Math Kernel Library 2025.0 will require Intel(R) Advanced Vector Extensions (Intel(R) AVX) instructions.\n"
     ]
    }
   ],
   "source": [
    "import numpy as np\n",
    "import matplotlib.pyplot as plt\n",
    "from time import time as tm\n",
    "import seaborn as sns\n",
    "import pickle\n",
    "\n",
    "filename='./Data/MultiTrialCorrBased.npy'\n",
    "with open(filename, 'rb') as f:\n",
    "    reRand,riRand,reLikeLike,riLikeLike = pickle.load(f)\n",
    "\n",
    "\n",
    "    "
   ]
  },
  {
   "cell_type": "code",
   "execution_count": 9,
   "id": "793c85fb-e1cb-4bc3-be1b-7145d5e802b3",
   "metadata": {},
   "outputs": [
    {
     "name": "stdout",
     "output_type": "stream",
     "text": [
      "4000 of 4000 E neurons made the cut.\n",
      "Intel MKL WARNING: Support of Intel(R) Streaming SIMD Extensions 4.2 (Intel(R) SSE4.2) enabled only processors has been deprecated. Intel oneAPI Math Kernel Library 2025.0 will require Intel(R) Advanced Vector Extensions (Intel(R) AVX) instructions.\n"
     ]
    },
    {
     "ename": "NameError",
     "evalue": "name 'J' is not defined",
     "output_type": "error",
     "traceback": [
      "\u001b[0;31m---------------------------------------------------------------------------\u001b[0m",
      "\u001b[0;31mNameError\u001b[0m                                 Traceback (most recent call last)",
      "Cell \u001b[0;32mIn[9], line 29\u001b[0m\n\u001b[1;32m     26\u001b[0m \u001b[38;5;28mprint\u001b[39m(numGood,\u001b[38;5;124m'\u001b[39m\u001b[38;5;124mof\u001b[39m\u001b[38;5;124m'\u001b[39m,Ne,\u001b[38;5;124m'\u001b[39m\u001b[38;5;124mE neurons made the cut.\u001b[39m\u001b[38;5;124m'\u001b[39m)\n\u001b[1;32m     27\u001b[0m CutoffEECorrMatrix\u001b[38;5;241m=\u001b[39mnp\u001b[38;5;241m.\u001b[39mcorrcoef(ECounts[ECutoffInds])\n\u001b[0;32m---> 29\u001b[0m Jee\u001b[38;5;241m=\u001b[39m\u001b[43mJ\u001b[49m[:Ne,:Ne]\n\u001b[1;32m     30\u001b[0m JeeCutoff\u001b[38;5;241m=\u001b[39mJee[ECutoffInds,:][:,ECutoffInds]\n\u001b[1;32m     31\u001b[0m ConnectedEECorrs\u001b[38;5;241m=\u001b[39mCutoffEECorrMatrix[np\u001b[38;5;241m.\u001b[39mwhere(np\u001b[38;5;241m.\u001b[39mtriu(JeeCutoff,k\u001b[38;5;241m=\u001b[39m\u001b[38;5;241m1\u001b[39m))]\n",
      "\u001b[0;31mNameError\u001b[0m: name 'J' is not defined"
     ]
    }
   ],
   "source": [
    "numtrials=10\n",
    "dtRate=250\n",
    "Tburn=500\n",
    "T=11000\n",
    "Ne = 4000\n",
    "\n",
    "sns.set(context='paper',style='white',font_scale=1.2,rc={\"lines.linewidth\":1.5})\n",
    "sns.set_palette('muted')\n",
    "#%config InlineBackend.figure_format = 'retina'\n",
    "\n",
    "\n",
    "rmin=1.0/1000\n",
    "\n",
    "nt=numtrials\n",
    "\n",
    "\n",
    "# Counts from rates with burn-in\n",
    "ECounts = dtRate*reRand[:nt,:,int(Tburn/dtRate):-int(Tburn/dtRate)]\n",
    "\n",
    "# Average over trials\n",
    "ECounts = ECounts[:nt,:,:].mean(axis=0)\n",
    "\n",
    "\n",
    "ECutoffInds=np.where(ECounts.sum(axis=1)>T*rmin)[0]\n",
    "numGood = len(ECutoffInds)\n",
    "print(numGood,'of',Ne,'E neurons made the cut.')\n",
    "CutoffEECorrMatrix=np.corrcoef(ECounts[ECutoffInds])\n",
    "\n",
    "Jee=J[:Ne,:Ne]\n",
    "JeeCutoff=Jee[ECutoffInds,:][:,ECutoffInds]\n",
    "ConnectedEECorrs=CutoffEECorrMatrix[np.where(np.triu(JeeCutoff,k=1))]\n",
    "UnconnectedEECorrs=CutoffEECorrMatrix[np.where(np.triu(np.logical_not(JeeCutoff),k=1))]\n",
    "\n",
    "\n",
    "print(nt)\n",
    "print('Mean EE corr:',AllEECorrs.mean())\n",
    "print('Std EE corr:',AllEECorrs.std())\n",
    "print('Mean connected EE corr:',ConnectedEECorrs.mean())\n",
    "print('Mean unconnected EE corr:',UnconnectedEECorrs.mean())\n",
    "\n",
    "\n",
    "\n",
    "\n",
    "hAllEE,bAllEE=np.histogram(AllEECorrs,100,density=True)\n",
    "hConnEE,bConnEE=np.histogram(ConnectedEECorrs,100,density=True)\n",
    "hUnconnEE,bUnconnEE=np.histogram(UnconnectedEECorrs,100,density=True)\n",
    "\n",
    "plt.figure(figsize=(6,3))\n",
    "plt.plot(bAllEE[1:],hAllEE, label=\"all: mean corr={:.3f}\".format(AllEECorrs.mean()))\n",
    "plt.plot(bConnEE[1:],hConnEE, label=\"connected: mean corr={:.3f}\".format(ConnectedEECorrs.mean()))\n",
    "plt.plot(bUnconnEE[1:],hUnconnEE, label=\"unconnected: mean corr={:.3f}\".format(UnconnectedEECorrs.mean()))\n",
    "plt.ylabel('density')\n",
    "plt.xlabel('stimulus correlation')\n",
    "plt.legend(loc=(.75,.5))\n",
    "plt.xlim([-1,1])\n",
    "plt.title('Random Connectivity', weight='bold')\n",
    "plt.yticks([])\n",
    "sns.despine()\n",
    "plt.tight_layout()\n",
    "\n",
    "# # Save figure if needed\n",
    "# SaveFigures=True\n",
    "# if SaveFigures:\n",
    "#     plt.savefig('./Figures/MultiTrialLikeLikeConn.pdf')\n"
   ]
  }
 ],
 "metadata": {
  "kernelspec": {
   "display_name": "Python 3 (ipykernel)",
   "language": "python",
   "name": "python3"
  },
  "language_info": {
   "codemirror_mode": {
    "name": "ipython",
    "version": 3
   },
   "file_extension": ".py",
   "mimetype": "text/x-python",
   "name": "python",
   "nbconvert_exporter": "python",
   "pygments_lexer": "ipython3",
   "version": "3.10.9"
  }
 },
 "nbformat": 4,
 "nbformat_minor": 5
}
